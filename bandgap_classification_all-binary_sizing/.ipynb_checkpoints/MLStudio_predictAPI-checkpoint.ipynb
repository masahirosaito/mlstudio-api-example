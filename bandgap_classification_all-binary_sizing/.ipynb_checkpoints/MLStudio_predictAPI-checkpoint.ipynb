{
 "cells": [
  {
   "cell_type": "markdown",
   "id": "heated-union",
   "metadata": {},
   "source": [
    "## ライブラリのインポート "
   ]
  },
  {
   "cell_type": "code",
   "execution_count": 1,
   "id": "lesbian-daisy",
   "metadata": {},
   "outputs": [],
   "source": [
    "import requests\n",
    "import json\n",
    "import pandas as pd\n",
    "import numpy as np\n",
    "import seaborn as sns\n",
    "import matplotlib.pyplot as plt\n",
    "from sklearn.metrics import r2_score\n",
    "from sklearn.metrics import confusion_matrix"
   ]
  },
  {
   "cell_type": "code",
   "execution_count": 2,
   "id": "imposed-helena",
   "metadata": {},
   "outputs": [],
   "source": [
    "from pymatgen import MPRester"
   ]
  },
  {
   "cell_type": "markdown",
   "id": "automated-festival",
   "metadata": {},
   "source": [
    "## APIサーバのURLと認証キーを設定"
   ]
  },
  {
   "cell_type": "code",
   "execution_count": 3,
   "id": "wanted-challenge",
   "metadata": {},
   "outputs": [],
   "source": [
    "scoring_uri = 'http://963664bf-001a-457d-866e-743afa597c1b.eastus.azurecontainer.io/score'\n",
    "key = 'XIkOcRV12fD2cCsMc0H3VkikqhYTzPvA'"
   ]
  },
  {
   "cell_type": "markdown",
   "id": "dangerous-nickel",
   "metadata": {},
   "source": [
    "##  Material ProjectのAPI認証キー"
   ]
  },
  {
   "cell_type": "code",
   "execution_count": 4,
   "id": "mysterious-beaver",
   "metadata": {},
   "outputs": [],
   "source": [
    "material_key='I3mgNiZBnTJEtSa7'"
   ]
  },
  {
   "cell_type": "markdown",
   "id": "fleet-agenda",
   "metadata": {},
   "source": [
    "## Band Gap物性予測用のcsvファイルを取得する関数"
   ]
  },
  {
   "cell_type": "code",
   "execution_count": 5,
   "id": "ideal-gregory",
   "metadata": {},
   "outputs": [],
   "source": [
    "def csv_to_list(csv_path):\n",
    "    df = pd.read_csv(csv_path)\n",
    "    features_list = df.values.tolist()\n",
    "    target_list = df['Band_gap'].values.tolist()\n",
    "    \n",
    "    return target_list, features_list"
   ]
  },
  {
   "cell_type": "markdown",
   "id": "dressed-physiology",
   "metadata": {},
   "source": [
    "## APIサーバに特徴量のリストを送信し、予測値のリストを返す関数"
   ]
  },
  {
   "cell_type": "code",
   "execution_count": 6,
   "id": "educated-distance",
   "metadata": {},
   "outputs": [],
   "source": [
    "def get_predict(features_list, uri, key):\n",
    "    features_dict = {\"data\": features_list}\n",
    "    input_data = json.dumps(features_dict)\n",
    "    headers = {'Content-Type': 'application/json'}\n",
    "    headers['Authorization'] = f'Bearer {key}' \n",
    "    resp = requests.post(uri, input_data, headers=headers)\n",
    "    result = resp.text\n",
    "    predict_dict=json.loads(json.loads(result))\n",
    "    return predict_dict[\"result\"]"
   ]
  },
  {
   "cell_type": "markdown",
   "id": "turkish-cooper",
   "metadata": {},
   "source": [
    "## テストデータの読み込み、テストデータについての予測"
   ]
  },
  {
   "cell_type": "code",
   "execution_count": 7,
   "id": "first-recognition",
   "metadata": {},
   "outputs": [
    {
     "ename": "KeyError",
     "evalue": "'Band gap'",
     "output_type": "error",
     "traceback": [
      "\u001b[0;31m---------------------------------------------------------------------------\u001b[0m",
      "\u001b[0;31mKeyError\u001b[0m                                  Traceback (most recent call last)",
      "\u001b[0;32m/home/masa/soft/anaconda3/envs/jupyter_lab/lib/python3.7/site-packages/pandas/core/indexes/base.py\u001b[0m in \u001b[0;36mget_loc\u001b[0;34m(self, key, method, tolerance)\u001b[0m\n\u001b[1;32m   3079\u001b[0m             \u001b[0;32mtry\u001b[0m\u001b[0;34m:\u001b[0m\u001b[0;34m\u001b[0m\u001b[0;34m\u001b[0m\u001b[0m\n\u001b[0;32m-> 3080\u001b[0;31m                 \u001b[0;32mreturn\u001b[0m \u001b[0mself\u001b[0m\u001b[0;34m.\u001b[0m\u001b[0m_engine\u001b[0m\u001b[0;34m.\u001b[0m\u001b[0mget_loc\u001b[0m\u001b[0;34m(\u001b[0m\u001b[0mcasted_key\u001b[0m\u001b[0;34m)\u001b[0m\u001b[0;34m\u001b[0m\u001b[0;34m\u001b[0m\u001b[0m\n\u001b[0m\u001b[1;32m   3081\u001b[0m             \u001b[0;32mexcept\u001b[0m \u001b[0mKeyError\u001b[0m \u001b[0;32mas\u001b[0m \u001b[0merr\u001b[0m\u001b[0;34m:\u001b[0m\u001b[0;34m\u001b[0m\u001b[0;34m\u001b[0m\u001b[0m\n",
      "\u001b[0;32mpandas/_libs/index.pyx\u001b[0m in \u001b[0;36mpandas._libs.index.IndexEngine.get_loc\u001b[0;34m()\u001b[0m\n",
      "\u001b[0;32mpandas/_libs/index.pyx\u001b[0m in \u001b[0;36mpandas._libs.index.IndexEngine.get_loc\u001b[0;34m()\u001b[0m\n",
      "\u001b[0;32mpandas/_libs/hashtable_class_helper.pxi\u001b[0m in \u001b[0;36mpandas._libs.hashtable.PyObjectHashTable.get_item\u001b[0;34m()\u001b[0m\n",
      "\u001b[0;32mpandas/_libs/hashtable_class_helper.pxi\u001b[0m in \u001b[0;36mpandas._libs.hashtable.PyObjectHashTable.get_item\u001b[0;34m()\u001b[0m\n",
      "\u001b[0;31mKeyError\u001b[0m: 'Band gap'",
      "\nThe above exception was the direct cause of the following exception:\n",
      "\u001b[0;31mKeyError\u001b[0m                                  Traceback (most recent call last)",
      "\u001b[0;32m<ipython-input-7-6684530a97ee>\u001b[0m in \u001b[0;36m<module>\u001b[0;34m()\u001b[0m\n\u001b[0;32m----> 1\u001b[0;31m \u001b[0mtest_target\u001b[0m\u001b[0;34m,\u001b[0m \u001b[0mtest_features\u001b[0m \u001b[0;34m=\u001b[0m \u001b[0mcsv_to_list\u001b[0m\u001b[0;34m(\u001b[0m\u001b[0;34m'BG_test.csv'\u001b[0m\u001b[0;34m)\u001b[0m\u001b[0;34m\u001b[0m\u001b[0;34m\u001b[0m\u001b[0m\n\u001b[0m\u001b[1;32m      2\u001b[0m \u001b[0mtest_predict\u001b[0m \u001b[0;34m=\u001b[0m \u001b[0mget_predict\u001b[0m\u001b[0;34m(\u001b[0m\u001b[0mtest_features\u001b[0m\u001b[0;34m,\u001b[0m \u001b[0mscoring_uri\u001b[0m\u001b[0;34m,\u001b[0m \u001b[0mkey\u001b[0m\u001b[0;34m)\u001b[0m\u001b[0;34m\u001b[0m\u001b[0;34m\u001b[0m\u001b[0m\n",
      "\u001b[0;32m<ipython-input-5-4cb55313a8ef>\u001b[0m in \u001b[0;36mcsv_to_list\u001b[0;34m(csv_path)\u001b[0m\n\u001b[1;32m      2\u001b[0m     \u001b[0mdf\u001b[0m \u001b[0;34m=\u001b[0m \u001b[0mpd\u001b[0m\u001b[0;34m.\u001b[0m\u001b[0mread_csv\u001b[0m\u001b[0;34m(\u001b[0m\u001b[0mcsv_path\u001b[0m\u001b[0;34m)\u001b[0m\u001b[0;34m\u001b[0m\u001b[0;34m\u001b[0m\u001b[0m\n\u001b[1;32m      3\u001b[0m     \u001b[0mfeatures_list\u001b[0m \u001b[0;34m=\u001b[0m \u001b[0mdf\u001b[0m\u001b[0;34m.\u001b[0m\u001b[0mvalues\u001b[0m\u001b[0;34m.\u001b[0m\u001b[0mtolist\u001b[0m\u001b[0;34m(\u001b[0m\u001b[0;34m)\u001b[0m\u001b[0;34m\u001b[0m\u001b[0;34m\u001b[0m\u001b[0m\n\u001b[0;32m----> 4\u001b[0;31m     \u001b[0mtarget_list\u001b[0m \u001b[0;34m=\u001b[0m \u001b[0mdf\u001b[0m\u001b[0;34m[\u001b[0m\u001b[0;34m'Band gap'\u001b[0m\u001b[0;34m]\u001b[0m\u001b[0;34m.\u001b[0m\u001b[0mvalues\u001b[0m\u001b[0;34m.\u001b[0m\u001b[0mtolist\u001b[0m\u001b[0;34m(\u001b[0m\u001b[0;34m)\u001b[0m\u001b[0;34m\u001b[0m\u001b[0;34m\u001b[0m\u001b[0m\n\u001b[0m\u001b[1;32m      5\u001b[0m \u001b[0;34m\u001b[0m\u001b[0m\n\u001b[1;32m      6\u001b[0m     \u001b[0;32mreturn\u001b[0m \u001b[0mtarget_list\u001b[0m\u001b[0;34m,\u001b[0m \u001b[0mfeatures_list\u001b[0m\u001b[0;34m\u001b[0m\u001b[0;34m\u001b[0m\u001b[0m\n",
      "\u001b[0;32m/home/masa/soft/anaconda3/envs/jupyter_lab/lib/python3.7/site-packages/pandas/core/frame.py\u001b[0m in \u001b[0;36m__getitem__\u001b[0;34m(self, key)\u001b[0m\n\u001b[1;32m   3022\u001b[0m             \u001b[0;32mif\u001b[0m \u001b[0mself\u001b[0m\u001b[0;34m.\u001b[0m\u001b[0mcolumns\u001b[0m\u001b[0;34m.\u001b[0m\u001b[0mnlevels\u001b[0m \u001b[0;34m>\u001b[0m \u001b[0;36m1\u001b[0m\u001b[0;34m:\u001b[0m\u001b[0;34m\u001b[0m\u001b[0;34m\u001b[0m\u001b[0m\n\u001b[1;32m   3023\u001b[0m                 \u001b[0;32mreturn\u001b[0m \u001b[0mself\u001b[0m\u001b[0;34m.\u001b[0m\u001b[0m_getitem_multilevel\u001b[0m\u001b[0;34m(\u001b[0m\u001b[0mkey\u001b[0m\u001b[0;34m)\u001b[0m\u001b[0;34m\u001b[0m\u001b[0;34m\u001b[0m\u001b[0m\n\u001b[0;32m-> 3024\u001b[0;31m             \u001b[0mindexer\u001b[0m \u001b[0;34m=\u001b[0m \u001b[0mself\u001b[0m\u001b[0;34m.\u001b[0m\u001b[0mcolumns\u001b[0m\u001b[0;34m.\u001b[0m\u001b[0mget_loc\u001b[0m\u001b[0;34m(\u001b[0m\u001b[0mkey\u001b[0m\u001b[0;34m)\u001b[0m\u001b[0;34m\u001b[0m\u001b[0;34m\u001b[0m\u001b[0m\n\u001b[0m\u001b[1;32m   3025\u001b[0m             \u001b[0;32mif\u001b[0m \u001b[0mis_integer\u001b[0m\u001b[0;34m(\u001b[0m\u001b[0mindexer\u001b[0m\u001b[0;34m)\u001b[0m\u001b[0;34m:\u001b[0m\u001b[0;34m\u001b[0m\u001b[0;34m\u001b[0m\u001b[0m\n\u001b[1;32m   3026\u001b[0m                 \u001b[0mindexer\u001b[0m \u001b[0;34m=\u001b[0m \u001b[0;34m[\u001b[0m\u001b[0mindexer\u001b[0m\u001b[0;34m]\u001b[0m\u001b[0;34m\u001b[0m\u001b[0;34m\u001b[0m\u001b[0m\n",
      "\u001b[0;32m/home/masa/soft/anaconda3/envs/jupyter_lab/lib/python3.7/site-packages/pandas/core/indexes/base.py\u001b[0m in \u001b[0;36mget_loc\u001b[0;34m(self, key, method, tolerance)\u001b[0m\n\u001b[1;32m   3080\u001b[0m                 \u001b[0;32mreturn\u001b[0m \u001b[0mself\u001b[0m\u001b[0;34m.\u001b[0m\u001b[0m_engine\u001b[0m\u001b[0;34m.\u001b[0m\u001b[0mget_loc\u001b[0m\u001b[0;34m(\u001b[0m\u001b[0mcasted_key\u001b[0m\u001b[0;34m)\u001b[0m\u001b[0;34m\u001b[0m\u001b[0;34m\u001b[0m\u001b[0m\n\u001b[1;32m   3081\u001b[0m             \u001b[0;32mexcept\u001b[0m \u001b[0mKeyError\u001b[0m \u001b[0;32mas\u001b[0m \u001b[0merr\u001b[0m\u001b[0;34m:\u001b[0m\u001b[0;34m\u001b[0m\u001b[0;34m\u001b[0m\u001b[0m\n\u001b[0;32m-> 3082\u001b[0;31m                 \u001b[0;32mraise\u001b[0m \u001b[0mKeyError\u001b[0m\u001b[0;34m(\u001b[0m\u001b[0mkey\u001b[0m\u001b[0;34m)\u001b[0m \u001b[0;32mfrom\u001b[0m \u001b[0merr\u001b[0m\u001b[0;34m\u001b[0m\u001b[0;34m\u001b[0m\u001b[0m\n\u001b[0m\u001b[1;32m   3083\u001b[0m \u001b[0;34m\u001b[0m\u001b[0m\n\u001b[1;32m   3084\u001b[0m         \u001b[0;32mif\u001b[0m \u001b[0mtolerance\u001b[0m \u001b[0;32mis\u001b[0m \u001b[0;32mnot\u001b[0m \u001b[0;32mNone\u001b[0m\u001b[0;34m:\u001b[0m\u001b[0;34m\u001b[0m\u001b[0;34m\u001b[0m\u001b[0m\n",
      "\u001b[0;31mKeyError\u001b[0m: 'Band gap'"
     ]
    }
   ],
   "source": [
    "test_target, test_features = csv_to_list('BG_test.csv')\n",
    "test_predict = get_predict(test_features, scoring_uri, key)"
   ]
  },
  {
   "cell_type": "markdown",
   "id": "paperback-brooklyn",
   "metadata": {},
   "source": [
    "## 訓練データの読み込み、訓練データについての予測"
   ]
  },
  {
   "cell_type": "code",
   "execution_count": 9,
   "id": "unexpected-portal",
   "metadata": {},
   "outputs": [],
   "source": [
    "train_target, train_features = csv_to_list('BG_train.csv')\n",
    "train_predict = get_predict(train_features, scoring_uri, key)"
   ]
  },
  {
   "cell_type": "code",
   "execution_count": 11,
   "id": "contemporary-wyoming",
   "metadata": {},
   "outputs": [
    {
     "name": "stdout",
     "output_type": "stream",
     "text": [
      "169\n",
      "674\n"
     ]
    }
   ],
   "source": [
    "print(len(test_predict))\n",
    "print(len(train_target))"
   ]
  },
  {
   "cell_type": "markdown",
   "id": "round-calcium",
   "metadata": {},
   "source": [
    "## 予測値 vs 実際の値"
   ]
  },
  {
   "cell_type": "code",
   "execution_count": 9,
   "id": "sophisticated-links",
   "metadata": {},
   "outputs": [
    {
     "data": {
      "image/png": "[encoded data removed]",
      "text/plain": [
       "<Figure size 504x504 with 1 Axes>"
      ]
     },
     "metadata": {
      "needs_background": "light"
     },
     "output_type": "display_data"
    }
   ],
   "source": [
    "fig = plt.figure(figsize=(7,7))\n",
    "ax = fig.add_subplot(1, 1, 1)\n",
    "ax.scatter(train_target, train_predict, label='Train set')\n",
    "ax.scatter(test_target, test_predict, label='Test set')\n",
    "ax.set_aspect('equal') \n",
    "x = np.arange(0, 9, 0.1)\n",
    "y = x\n",
    "plt.plot(x, y, c=\"black\", linestyle=\"dashed\")\n",
    "plt.xlim(0,9)\n",
    "plt.ylim(0,9)\n",
    "plt.xlabel(\"True\")\n",
    "plt.ylabel(\"Predict\")\n",
    "plt.legend()\n",
    "plt.show()"
   ]
  },
  {
   "cell_type": "markdown",
   "id": "bottom-linux",
   "metadata": {},
   "source": [
    "## Material projectからIDの材料データを取得する関数"
   ]
  },
  {
   "cell_type": "code",
   "execution_count": 10,
   "id": "important-lexington",
   "metadata": {},
   "outputs": [],
   "source": [
    "def get_material_data(mpID):\n",
    "    with MPRester(material_key, notify_db_version=False) as m:\n",
    "        try:\n",
    "            data = m.get_data(mpID)\n",
    "        except Exception:\n",
    "            print(\"error : %s\" % mpID)\n",
    "            exit()\n",
    "    return data"
   ]
  },
  {
   "cell_type": "markdown",
   "id": "ruled-aluminum",
   "metadata": {},
   "source": [
    "## テスト材料をBand gap=2~3eVに含まれるか予測"
   ]
  },
  {
   "cell_type": "code",
   "execution_count": 11,
   "id": "framed-barrel",
   "metadata": {},
   "outputs": [],
   "source": [
    "true_test = [ (i > 2) & (i < 3) for i in test_target]\n",
    "predict_test = [ (i > 2) & (i < 3) for i in test_predict]\n",
    "positive=[]\n",
    "f_negative=[]\n",
    "for mpID, true, predict, bandgap in zip(test_ID, true_test, predict_test, test_target):\n",
    "    if predict:\n",
    "        data = get_material_data(mpID)\n",
    "        if true:\n",
    "            correctness='〇'\n",
    "        else:\n",
    "            correctness='×'\n",
    "        positive.append([mpID, data[0]['pretty_formula'], data[0]['spacegroup']['symbol'], bandgap, correctness])\n",
    "    elif true and not(predict):\n",
    "        data = get_material_data(mpID)\n",
    "        f_negative.append([mpID, data[0]['pretty_formula'], data[0]['spacegroup']['symbol'], bandgap])\n",
    "positive_df = pd.DataFrame(positive, columns=['ID', 'Formula', 'Space group', 'Band gap', 'Correctness'])\n",
    "f_negative_df = pd.DataFrame(f_negative, columns=['ID', 'Formula', 'Space group', 'Band gap'])"
   ]
  },
  {
   "cell_type": "markdown",
   "id": "differential-swiss",
   "metadata": {},
   "source": [
    "## Band gap=2~3eVと予測された材料"
   ]
  },
  {
   "cell_type": "code",
   "execution_count": 12,
   "id": "joint-counter",
   "metadata": {},
   "outputs": [
    {
     "data": {
      "text/html": [
       "<div>\n",
       "<style scoped>\n",
       "    .dataframe tbody tr th:only-of-type {\n",
       "        vertical-align: middle;\n",
       "    }\n",
       "\n",
       "    .dataframe tbody tr th {\n",
       "        vertical-align: top;\n",
       "    }\n",
       "\n",
       "    .dataframe thead th {\n",
       "        text-align: right;\n",
       "    }\n",
       "</style>\n",
       "<table border=\"1\" class=\"dataframe\">\n",
       "  <thead>\n",
       "    <tr style=\"text-align: right;\">\n",
       "      <th></th>\n",
       "      <th>ID</th>\n",
       "      <th>Formula</th>\n",
       "      <th>Space group</th>\n",
       "      <th>Band gap</th>\n",
       "      <th>Correctness</th>\n",
       "    </tr>\n",
       "  </thead>\n",
       "  <tbody>\n",
       "    <tr>\n",
       "      <th>0</th>\n",
       "      <td>mp-1747</td>\n",
       "      <td>K2Te</td>\n",
       "      <td>Fm-3m</td>\n",
       "      <td>2.1833</td>\n",
       "      <td>〇</td>\n",
       "    </tr>\n",
       "    <tr>\n",
       "      <th>1</th>\n",
       "      <td>mp-28306</td>\n",
       "      <td>MnBr2</td>\n",
       "      <td>P-3m1</td>\n",
       "      <td>2.9512</td>\n",
       "      <td>〇</td>\n",
       "    </tr>\n",
       "    <tr>\n",
       "      <th>2</th>\n",
       "      <td>mp-1011695</td>\n",
       "      <td>Cs2Se</td>\n",
       "      <td>Fm-3m</td>\n",
       "      <td>2.2979</td>\n",
       "      <td>〇</td>\n",
       "    </tr>\n",
       "    <tr>\n",
       "      <th>3</th>\n",
       "      <td>mp-20194</td>\n",
       "      <td>CeO2</td>\n",
       "      <td>Fm-3m</td>\n",
       "      <td>2.0917</td>\n",
       "      <td>〇</td>\n",
       "    </tr>\n",
       "    <tr>\n",
       "      <th>4</th>\n",
       "      <td>mp-8426</td>\n",
       "      <td>K2Se</td>\n",
       "      <td>Fm-3m</td>\n",
       "      <td>2.2025</td>\n",
       "      <td>〇</td>\n",
       "    </tr>\n",
       "    <tr>\n",
       "      <th>5</th>\n",
       "      <td>mp-554799</td>\n",
       "      <td>VF4</td>\n",
       "      <td>P2_1/c</td>\n",
       "      <td>2.3156</td>\n",
       "      <td>〇</td>\n",
       "    </tr>\n",
       "    <tr>\n",
       "      <th>6</th>\n",
       "      <td>mp-28395</td>\n",
       "      <td>B6P</td>\n",
       "      <td>R-3m</td>\n",
       "      <td>2.5095</td>\n",
       "      <td>〇</td>\n",
       "    </tr>\n",
       "    <tr>\n",
       "      <th>7</th>\n",
       "      <td>mp-2826</td>\n",
       "      <td>Lu2S3</td>\n",
       "      <td>R-3c</td>\n",
       "      <td>2.8393</td>\n",
       "      <td>〇</td>\n",
       "    </tr>\n",
       "    <tr>\n",
       "      <th>8</th>\n",
       "      <td>mp-341</td>\n",
       "      <td>PbF4</td>\n",
       "      <td>I4/mmm</td>\n",
       "      <td>2.1470</td>\n",
       "      <td>〇</td>\n",
       "    </tr>\n",
       "    <tr>\n",
       "      <th>9</th>\n",
       "      <td>mp-2789</td>\n",
       "      <td>NO2</td>\n",
       "      <td>Im-3</td>\n",
       "      <td>2.8265</td>\n",
       "      <td>〇</td>\n",
       "    </tr>\n",
       "    <tr>\n",
       "      <th>10</th>\n",
       "      <td>mp-571555</td>\n",
       "      <td>InCl</td>\n",
       "      <td>Cmcm</td>\n",
       "      <td>1.5965</td>\n",
       "      <td>×</td>\n",
       "    </tr>\n",
       "    <tr>\n",
       "      <th>11</th>\n",
       "      <td>mp-865353</td>\n",
       "      <td>TmI3</td>\n",
       "      <td>P6_3/mmc</td>\n",
       "      <td>2.3082</td>\n",
       "      <td>〇</td>\n",
       "    </tr>\n",
       "    <tr>\n",
       "      <th>12</th>\n",
       "      <td>mp-542613</td>\n",
       "      <td>GeS2</td>\n",
       "      <td>Fdd2</td>\n",
       "      <td>2.3594</td>\n",
       "      <td>〇</td>\n",
       "    </tr>\n",
       "    <tr>\n",
       "      <th>13</th>\n",
       "      <td>mp-547094</td>\n",
       "      <td>RuO4</td>\n",
       "      <td>C2/c</td>\n",
       "      <td>2.4177</td>\n",
       "      <td>〇</td>\n",
       "    </tr>\n",
       "    <tr>\n",
       "      <th>14</th>\n",
       "      <td>mp-1346</td>\n",
       "      <td>B6O</td>\n",
       "      <td>R-3m</td>\n",
       "      <td>1.8564</td>\n",
       "      <td>×</td>\n",
       "    </tr>\n",
       "    <tr>\n",
       "      <th>15</th>\n",
       "      <td>mp-22914</td>\n",
       "      <td>CuCl</td>\n",
       "      <td>F-43m</td>\n",
       "      <td>0.5646</td>\n",
       "      <td>×</td>\n",
       "    </tr>\n",
       "    <tr>\n",
       "      <th>16</th>\n",
       "      <td>mp-867893</td>\n",
       "      <td>SmI3</td>\n",
       "      <td>P6_3/mmc</td>\n",
       "      <td>2.0350</td>\n",
       "      <td>〇</td>\n",
       "    </tr>\n",
       "    <tr>\n",
       "      <th>17</th>\n",
       "      <td>mp-23933</td>\n",
       "      <td>AlH3</td>\n",
       "      <td>R-3c</td>\n",
       "      <td>2.2818</td>\n",
       "      <td>〇</td>\n",
       "    </tr>\n",
       "    <tr>\n",
       "      <th>18</th>\n",
       "      <td>mp-2739</td>\n",
       "      <td>TeO2</td>\n",
       "      <td>P4_32_12</td>\n",
       "      <td>2.8823</td>\n",
       "      <td>〇</td>\n",
       "    </tr>\n",
       "    <tr>\n",
       "      <th>19</th>\n",
       "      <td>mp-2784</td>\n",
       "      <td>Na2Te</td>\n",
       "      <td>Fm-3m</td>\n",
       "      <td>2.0287</td>\n",
       "      <td>〇</td>\n",
       "    </tr>\n",
       "    <tr>\n",
       "      <th>20</th>\n",
       "      <td>mp-27934</td>\n",
       "      <td>CdBr2</td>\n",
       "      <td>P6_3mc</td>\n",
       "      <td>2.9422</td>\n",
       "      <td>〇</td>\n",
       "    </tr>\n",
       "    <tr>\n",
       "      <th>21</th>\n",
       "      <td>mp-542846</td>\n",
       "      <td>AsS</td>\n",
       "      <td>C2/c</td>\n",
       "      <td>2.1721</td>\n",
       "      <td>〇</td>\n",
       "    </tr>\n",
       "    <tr>\n",
       "      <th>22</th>\n",
       "      <td>mp-569639</td>\n",
       "      <td>TlCl</td>\n",
       "      <td>Fm-3m</td>\n",
       "      <td>2.5369</td>\n",
       "      <td>〇</td>\n",
       "    </tr>\n",
       "    <tr>\n",
       "      <th>23</th>\n",
       "      <td>mp-886</td>\n",
       "      <td>Ga2O3</td>\n",
       "      <td>C2/m</td>\n",
       "      <td>2.0431</td>\n",
       "      <td>〇</td>\n",
       "    </tr>\n",
       "    <tr>\n",
       "      <th>24</th>\n",
       "      <td>mp-1602</td>\n",
       "      <td>SiS2</td>\n",
       "      <td>Ibam</td>\n",
       "      <td>3.4009</td>\n",
       "      <td>×</td>\n",
       "    </tr>\n",
       "  </tbody>\n",
       "</table>\n",
       "</div>"
      ],
      "text/plain": [
       "            ID Formula Space group  Band gap Correctness\n",
       "0      mp-1747    K2Te       Fm-3m    2.1833           〇\n",
       "1     mp-28306   MnBr2       P-3m1    2.9512           〇\n",
       "2   mp-1011695   Cs2Se       Fm-3m    2.2979           〇\n",
       "3     mp-20194    CeO2       Fm-3m    2.0917           〇\n",
       "4      mp-8426    K2Se       Fm-3m    2.2025           〇\n",
       "5    mp-554799     VF4      P2_1/c    2.3156           〇\n",
       "6     mp-28395     B6P        R-3m    2.5095           〇\n",
       "7      mp-2826   Lu2S3        R-3c    2.8393           〇\n",
       "8       mp-341    PbF4      I4/mmm    2.1470           〇\n",
       "9      mp-2789     NO2        Im-3    2.8265           〇\n",
       "10   mp-571555    InCl        Cmcm    1.5965           ×\n",
       "11   mp-865353    TmI3    P6_3/mmc    2.3082           〇\n",
       "12   mp-542613    GeS2        Fdd2    2.3594           〇\n",
       "13   mp-547094    RuO4        C2/c    2.4177           〇\n",
       "14     mp-1346     B6O        R-3m    1.8564           ×\n",
       "15    mp-22914    CuCl       F-43m    0.5646           ×\n",
       "16   mp-867893    SmI3    P6_3/mmc    2.0350           〇\n",
       "17    mp-23933    AlH3        R-3c    2.2818           〇\n",
       "18     mp-2739    TeO2    P4_32_12    2.8823           〇\n",
       "19     mp-2784   Na2Te       Fm-3m    2.0287           〇\n",
       "20    mp-27934   CdBr2      P6_3mc    2.9422           〇\n",
       "21   mp-542846     AsS        C2/c    2.1721           〇\n",
       "22   mp-569639    TlCl       Fm-3m    2.5369           〇\n",
       "23      mp-886   Ga2O3        C2/m    2.0431           〇\n",
       "24     mp-1602    SiS2        Ibam    3.4009           ×"
      ]
     },
     "execution_count": 12,
     "metadata": {},
     "output_type": "execute_result"
    }
   ],
   "source": [
    "positive_df"
   ]
  },
  {
   "cell_type": "markdown",
   "id": "sealed-appeal",
   "metadata": {},
   "source": [
    "## Band gap=2~3eVだが、予測されなかった材料"
   ]
  },
  {
   "cell_type": "code",
   "execution_count": 13,
   "id": "ambient-agenda",
   "metadata": {},
   "outputs": [
    {
     "data": {
      "text/html": [
       "<div>\n",
       "<style scoped>\n",
       "    .dataframe tbody tr th:only-of-type {\n",
       "        vertical-align: middle;\n",
       "    }\n",
       "\n",
       "    .dataframe tbody tr th {\n",
       "        vertical-align: top;\n",
       "    }\n",
       "\n",
       "    .dataframe thead th {\n",
       "        text-align: right;\n",
       "    }\n",
       "</style>\n",
       "<table border=\"1\" class=\"dataframe\">\n",
       "  <thead>\n",
       "    <tr style=\"text-align: right;\">\n",
       "      <th></th>\n",
       "      <th>ID</th>\n",
       "      <th>Formula</th>\n",
       "      <th>Space group</th>\n",
       "      <th>Band gap</th>\n",
       "    </tr>\n",
       "  </thead>\n",
       "  <tbody>\n",
       "    <tr>\n",
       "      <th>0</th>\n",
       "      <td>mp-24721</td>\n",
       "      <td>RbH</td>\n",
       "      <td>Fm-3m</td>\n",
       "      <td>2.9164</td>\n",
       "    </tr>\n",
       "    <tr>\n",
       "      <th>1</th>\n",
       "      <td>mp-14787</td>\n",
       "      <td>Tm2S3</td>\n",
       "      <td>R-3c</td>\n",
       "      <td>2.7719</td>\n",
       "    </tr>\n",
       "    <tr>\n",
       "      <th>2</th>\n",
       "      <td>mp-571102</td>\n",
       "      <td>TlI</td>\n",
       "      <td>Fm-3m</td>\n",
       "      <td>2.2076</td>\n",
       "    </tr>\n",
       "    <tr>\n",
       "      <th>3</th>\n",
       "      <td>mp-570355</td>\n",
       "      <td>PbCl4</td>\n",
       "      <td>C2/c</td>\n",
       "      <td>2.0991</td>\n",
       "    </tr>\n",
       "    <tr>\n",
       "      <th>4</th>\n",
       "      <td>mp-29504</td>\n",
       "      <td>ClF</td>\n",
       "      <td>P2_1/c</td>\n",
       "      <td>2.0897</td>\n",
       "    </tr>\n",
       "    <tr>\n",
       "      <th>5</th>\n",
       "      <td>mp-22922</td>\n",
       "      <td>AgCl</td>\n",
       "      <td>Fm-3m</td>\n",
       "      <td>2.8875</td>\n",
       "    </tr>\n",
       "    <tr>\n",
       "      <th>6</th>\n",
       "      <td>mp-19921</td>\n",
       "      <td>PbO</td>\n",
       "      <td>P4/nmm</td>\n",
       "      <td>2.0721</td>\n",
       "    </tr>\n",
       "  </tbody>\n",
       "</table>\n",
       "</div>"
      ],
      "text/plain": [
       "          ID Formula Space group  Band gap\n",
       "0   mp-24721     RbH       Fm-3m    2.9164\n",
       "1   mp-14787   Tm2S3        R-3c    2.7719\n",
       "2  mp-571102     TlI       Fm-3m    2.2076\n",
       "3  mp-570355   PbCl4        C2/c    2.0991\n",
       "4   mp-29504     ClF      P2_1/c    2.0897\n",
       "5   mp-22922    AgCl       Fm-3m    2.8875\n",
       "6   mp-19921     PbO      P4/nmm    2.0721"
      ]
     },
     "execution_count": 13,
     "metadata": {},
     "output_type": "execute_result"
    }
   ],
   "source": [
    "f_negative_df"
   ]
  },
  {
   "cell_type": "markdown",
   "id": "center-action",
   "metadata": {},
   "source": [
    "## Band gap=2~3eVの予測の混合行列"
   ]
  },
  {
   "cell_type": "code",
   "execution_count": 14,
   "id": "valuable-cookbook",
   "metadata": {},
   "outputs": [
    {
     "data": {
      "image/png": "[encoded data removed]",
      "text/plain": [
       "<Figure size 432x288 with 2 Axes>"
      ]
     },
     "metadata": {
      "needs_background": "light"
     },
     "output_type": "display_data"
    }
   ],
   "source": [
    "cm_test = confusion_matrix(true_test, predict_test)\n",
    "sns.heatmap(cm_test, annot=True, cmap='Blues')\n",
    "plt.show()"
   ]
  },
  {
   "cell_type": "code",
   "execution_count": null,
   "id": "complimentary-soundtrack",
   "metadata": {},
   "outputs": [],
   "source": []
  }
 ],
 "metadata": {
  "kernelspec": {
   "display_name": "Python 3",
   "language": "python",
   "name": "python3"
  },
  "language_info": {
   "codemirror_mode": {
    "name": "ipython",
    "version": 3
   },
   "file_extension": ".py",
   "mimetype": "text/x-python",
   "name": "python",
   "nbconvert_exporter": "python",
   "pygments_lexer": "ipython3",
   "version": "3.7.9"
  }
 },
 "nbformat": 4,
 "nbformat_minor": 5
}
